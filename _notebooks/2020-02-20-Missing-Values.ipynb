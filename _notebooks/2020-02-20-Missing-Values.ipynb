{
 "cells": [
  {
   "cell_type": "markdown",
   "metadata": {},
   "source": [
    "# \"Missing Values in Pandas: A Comprehensive Guide\"\n",
    "> \"A tutorial of how to approach missing value problem in any machine learning project.\"\n",
    "- toc: true\n",
    "- badges: true\n",
    "- comments: true\n",
    "- categories: [tutorial]\n",
    "- hide: true"
   ]
  },
  {
   "cell_type": "markdown",
   "metadata": {},
   "source": [
    "# Introduction\n",
    "\n",
    "In this notebook we will go through the main concepts of `pandas` library. First, let's import the `pandas` library. We use the common alias `pd`."
   ]
  },
  {
   "cell_type": "code",
   "execution_count": null,
   "metadata": {},
   "outputs": [],
   "source": [
    "import pandas as pd\n",
    "from termcolor import colored, cprint"
   ]
  },
  {
   "cell_type": "markdown",
   "metadata": {},
   "source": [
    "List columns in the dataframe which contain missing values:"
   ]
  },
  {
   "cell_type": "code",
   "execution_count": null,
   "metadata": {},
   "outputs": [],
   "source": [
    "print(colored(f'List of columns with missing values:', 'blue'))\n",
    "print(df.columns[df.isnull().any()].to_list())"
   ]
  },
  {
   "cell_type": "markdown",
   "metadata": {},
   "source": [
    "```python\n",
    "List of columns with missing values:\n",
    "['sex', 'age_approx', 'anatom_site_general_challenge']\n",
    "```"
   ]
  },
  {
   "cell_type": "markdown",
   "metadata": {},
   "source": [
    "Compute the percentage of missing values, convert the results to a dataframe, order in descending order and show only non-zero values:"
   ]
  },
  {
   "cell_type": "code",
   "execution_count": null,
   "metadata": {},
   "outputs": [],
   "source": [
    "print(colored(f'Percentage of missing values:', 'blue'))\n",
    "print(((df.isnull().sum()/len(df))*100).to_frame('NA_PERC')\\\n",
    "          .sort_values(by = 'NA_PERC', ascending = False)\\\n",
    "          .query('NA_PERC > 0'))"
   ]
  }
 ],
 "metadata": {
  "kernelspec": {
   "display_name": "Python 3.8.2 64-bit ('ml': conda)",
   "language": "python",
   "name": "python38264bitmlconda66d3d4ee71fc4f57ba1d58fb8b0fa51b"
  },
  "language_info": {
   "codemirror_mode": {
    "name": "ipython",
    "version": 3
   },
   "file_extension": ".py",
   "mimetype": "text/x-python",
   "name": "python",
   "nbconvert_exporter": "python",
   "pygments_lexer": "ipython3",
   "version": "3.8.2-final"
  }
 },
 "nbformat": 4,
 "nbformat_minor": 4
}