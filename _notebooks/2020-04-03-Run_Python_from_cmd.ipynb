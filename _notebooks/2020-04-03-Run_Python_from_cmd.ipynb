{
 "cells": [
  {
   "cell_type": "markdown",
   "metadata": {},
   "source": [
    "# Running Python script from the command line\n",
    "> Step-by-step process on how to run Python script from the command line\n",
    "\n",
    "- toc: false \n",
    "- badges: true\n",
    "- comments: true\n",
    "- author: Ita Ćirović Donev\n",
    "- image: \n",
    "- categories: [small hacks, Python]"
   ]
  },
  {
   "cell_type": "markdown",
   "metadata": {},
   "source": [
    "If you are in data science you will undoubtedly hear all the great things about Jupyter notebooks. Righly so. I started using notebooks in the RStudio environment and it provided an over encompasing view of the complete process even for persons not sp familiar with the project. Now I almost exclusively use Jupyter lab along with some usefull extensions such as table of contents.........\n",
    "\n",
    "However, in many cases we want to optimize our machine learning pipeline and dive into modular programming, which rquire writing Pythion scripts and running them in the command line."
   ]
  },
  {
   "cell_type": "code",
   "execution_count": null,
   "metadata": {},
   "outputs": [],
   "source": []
  }
 ],
 "metadata": {
  "file_extension": ".py",
  "kernelspec": {
   "display_name": "Python 3.7.6 64-bit ('astro': conda)",
   "language": "python",
   "name": "python37664bitastroconda90475269d63c451ba19943fa5ea6495c"
  },
  "language_info": {
   "codemirror_mode": {
    "name": "ipython",
    "version": 3
   },
   "file_extension": ".py",
   "mimetype": "text/x-python",
   "name": "python",
   "nbconvert_exporter": "python",
   "pygments_lexer": "ipython3",
   "version": "3.7.6"
  },
  "mimetype": "text/x-python",
  "name": "python",
  "npconvert_exporter": "python",
  "pygments_lexer": "ipython3",
  "version": 3
 },
 "nbformat": 4,
 "nbformat_minor": 4
}