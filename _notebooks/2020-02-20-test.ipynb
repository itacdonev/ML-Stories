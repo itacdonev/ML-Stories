{
 "cells": [
  {
   "cell_type": "markdown",
   "metadata": {},
   "source": [
    "# \"Random Forest: An Algorithm for All Times\"\n",
    "> \"A tutorial of Random Forest Algorithm.\"\n",
    "- toc: true\n",
    "- badges: true\n",
    "- comments: true\n",
    "- categories: [tutorial]\n",
    "- hide: true"
   ]
  },
  {
   "cell_type": "markdown",
   "metadata": {},
   "source": [
    "# Introduction\n",
    "\n",
    "In this notebook we will go through the main concepts of `pandas` library. First, let's import the `pandas` library. We use the common alias `pd`."
   ]
  },
  {
   "cell_type": "markdown",
   "metadata": {},
   "source": [
    "Source: fast.ai course [link](https://www.analyticsvidhya.com/blog/2018/10/comprehensive-overview-machine-learning-part-1/)\n",
    "> - Random forest is a kind of universal machine learning technique\n",
    "- It can be used for both regression (target is a continuous variable) or classification (target is a categorical variable) problems\n",
    "- It also works with columns of any kinds, like pixel values, zip codes, revenue, etc.\n",
    "- In general, random forest does not overfit (it’s very easy to stop it from overfitting)\n",
    "- You do not need a separate validation set in general. It can tell you how well it generalizes even if you only have one dataset\n",
    "- It has few (if any) statistical assumptions (it doesn’t assume that data is normally distributed, data is linear, or that you need to specify the interactions)\n",
    "- Requires very few feature engineering tactics, so it’s a great place to start. For many different types of situations, you do not have to take the log of the data or multiply interactions together\n",
    "- Most machine learning models (including random forest) cannot directly use categorical columns.\n",
    "\n",
    "\n",
    "- `RandomForestRegressor` and `RandomForestClassifier`"
   ]
  },
  {
   "cell_type": "code",
   "execution_count": 1,
   "metadata": {},
   "outputs": [],
   "source": [
    "from sklearn.ensemble import RandomForestClassifier, RandomForestRegressor\n",
    "from sklearn import metrics"
   ]
  },
  {
   "cell_type": "code",
   "execution_count": null,
   "metadata": {},
   "outputs": [],
   "source": []
  }
 ],
 "metadata": {
  "kernelspec": {
   "display_name": "Python 3.8.2 64-bit ('ml': conda)",
   "language": "python",
   "name": "python38264bitmlconda66d3d4ee71fc4f57ba1d58fb8b0fa51b"
  },
  "language_info": {
   "codemirror_mode": {
    "name": "ipython",
    "version": 3
   },
   "file_extension": ".py",
   "mimetype": "text/x-python",
   "name": "python",
   "nbconvert_exporter": "python",
   "pygments_lexer": "ipython3",
   "version": "3.8.2-final"
  }
 },
 "nbformat": 4,
 "nbformat_minor": 4
}